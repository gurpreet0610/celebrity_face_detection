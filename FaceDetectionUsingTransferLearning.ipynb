{
  "nbformat": 4,
  "nbformat_minor": 0,
  "metadata": {
    "colab": {
      "name": "FaceDetectionUsingTransferLearning.ipynb",
      "provenance": [],
      "private_outputs": true,
      "collapsed_sections": []
    },
    "kernelspec": {
      "name": "python3",
      "display_name": "Python 3"
    },
    "accelerator": "GPU"
  },
  "cells": [
    {
      "cell_type": "code",
      "metadata": {
        "id": "LyYkFibzt1Du",
        "colab_type": "code",
        "colab": {}
      },
      "source": [
        "import cv2\n",
        "import dlib\n",
        "from keras.models import load_model\n",
        "import numpy as np\n",
        "from numpy import expand_dims\n",
        "import math\n",
        "from google.colab.patches import cv2_imshow"
      ],
      "execution_count": 0,
      "outputs": []
    },
    {
      "cell_type": "code",
      "metadata": {
        "id": "y81B_uqNyaAX",
        "colab_type": "code",
        "colab": {}
      },
      "source": [
        "face_detector = dlib.cnn_face_detection_model_v1(\"/content/drive/My Drive/Datasets/model/mmod_human_face_detector.dat\")\n",
        "model = load_model('/content/drive/My Drive/Datasets/model/facenet_keras.h5')"
      ],
      "execution_count": 0,
      "outputs": []
    },
    {
      "cell_type": "code",
      "metadata": {
        "id": "r5xl208XystU",
        "colab_type": "code",
        "colab": {}
      },
      "source": [
        "def get_image_face(img):\n",
        "    \n",
        "    faces = face_detector(img, 1)\n",
        "    crop_faces=[]\n",
        "    for face in faces:\n",
        "        crop_faces.append(img[face.rect.top():face.rect.bottom(),\n",
        "                       face.rect.left():face.rect.right()])\n",
        "    return crop_faces[0]"
      ],
      "execution_count": 0,
      "outputs": []
    },
    {
      "cell_type": "code",
      "metadata": {
        "id": "RFTtXM_7zrbD",
        "colab_type": "code",
        "colab": {}
      },
      "source": [
        "def generate_embeddings(face_pixels):\n",
        "    face_pixels=cv2.resize(face_pixels,(160,160))\n",
        "    # scale pixel values\n",
        "    face_pixels = face_pixels.astype('float32')\n",
        "    # standardize pixel values across channels (global)\n",
        "    mean, std = face_pixels.mean(), face_pixels.std()\n",
        "    face_pixels = (face_pixels - mean) / std\n",
        "    # transform face into one sample\n",
        "    samples = expand_dims(face_pixels, axis=0)\n",
        "    # make prediction to get embedding\n",
        "    yhat = model.predict(samples)\n",
        "    return yhat[0]"
      ],
      "execution_count": 0,
      "outputs": []
    },
    {
      "cell_type": "code",
      "metadata": {
        "id": "1x9oYtq1zzTk",
        "colab_type": "code",
        "colab": {}
      },
      "source": [
        "# Example image\n",
        "img = cv2.imread(\"/content/drive/My Drive/Datasets/Dataset/robertdownejr/robertdowneyjr_31913316_225277851571397_8189716001621803008_n.jpg\")\n",
        "imgc= cv2.resize(img,(200,250))\n",
        "cv2_imshow(imgc)"
      ],
      "execution_count": 0,
      "outputs": []
    },
    {
      "cell_type": "code",
      "metadata": {
        "id": "N-PRwa2Q09ay",
        "colab_type": "code",
        "colab": {}
      },
      "source": [
        "face=get_image_face(img)\n",
        "cv2_imshow(face)"
      ],
      "execution_count": 0,
      "outputs": []
    },
    {
      "cell_type": "code",
      "metadata": {
        "id": "8gOImyuc15lf",
        "colab_type": "code",
        "colab": {}
      },
      "source": [
        "embd=generate_embeddings(face)\n",
        "embd"
      ],
      "execution_count": 0,
      "outputs": []
    },
    {
      "cell_type": "code",
      "metadata": {
        "id": "Pc7Qs9zt2gt6",
        "colab_type": "code",
        "colab": {}
      },
      "source": [
        "#this embeddings extract face features\n",
        "embd.shape"
      ],
      "execution_count": 0,
      "outputs": []
    },
    {
      "cell_type": "code",
      "metadata": {
        "id": "9z4gaSyO2nYx",
        "colab_type": "code",
        "colab": {}
      },
      "source": [
        "def generate_aclass(name,label):\n",
        "  basedir=\"/content/drive/My Drive/Datasets/Dataset/\"+name\n",
        "  import os\n",
        "  ls=[]\n",
        "  for file in os.listdir(basedir):\n",
        "    img = cv2.imread(basedir+\"/\"+file)\n",
        "    face=get_image_face(img)\n",
        "    embd=list(generate_embeddings(face))\n",
        "    embd.append(label)\n",
        "    ls.append(embd)\n",
        "  return ls"
      ],
      "execution_count": 0,
      "outputs": []
    },
    {
      "cell_type": "code",
      "metadata": {
        "id": "K7MlclLE71U8",
        "colab_type": "code",
        "colab": {}
      },
      "source": [
        "bennidict=generate_aclass(\"bennidict\",0)\n",
        "chrishemsworth=generate_aclass(\"chrishemsworth\",1)\n",
        "robertdownejr=generate_aclass(\"robertdownejr\",2)"
      ],
      "execution_count": 0,
      "outputs": []
    },
    {
      "cell_type": "code",
      "metadata": {
        "id": "dVTaLORl8axo",
        "colab_type": "code",
        "colab": {}
      },
      "source": [
        "FinalLs=bennidict + chrishemsworth + robertdownejr"
      ],
      "execution_count": 0,
      "outputs": []
    },
    {
      "cell_type": "code",
      "metadata": {
        "id": "8p_0CAgf9_qJ",
        "colab_type": "code",
        "colab": {}
      },
      "source": [
        "FinalArr=np.array(FinalLs)"
      ],
      "execution_count": 0,
      "outputs": []
    },
    {
      "cell_type": "code",
      "metadata": {
        "id": "elDY9i11-G1v",
        "colab_type": "code",
        "colab": {}
      },
      "source": [
        "class_label = FinalArr[:, -1] # for last column\n",
        "dataset = FinalArr[:, :-1] # for all but last column"
      ],
      "execution_count": 0,
      "outputs": []
    },
    {
      "cell_type": "code",
      "metadata": {
        "id": "RXtMdYTk-teX",
        "colab_type": "code",
        "colab": {}
      },
      "source": [
        "dataset[0].shape"
      ],
      "execution_count": 0,
      "outputs": []
    },
    {
      "cell_type": "code",
      "metadata": {
        "id": "vtO9AzF6-tQS",
        "colab_type": "code",
        "colab": {}
      },
      "source": [
        "from sklearn.neighbors import KNeighborsClassifier\n",
        "KNNmodel = KNeighborsClassifier(n_neighbors=3)"
      ],
      "execution_count": 0,
      "outputs": []
    },
    {
      "cell_type": "code",
      "metadata": {
        "id": "Ux_VYfFMALW5",
        "colab_type": "code",
        "colab": {}
      },
      "source": [
        "KNNmodel.fit(dataset,class_label)"
      ],
      "execution_count": 0,
      "outputs": []
    },
    {
      "cell_type": "markdown",
      "metadata": {
        "id": "VBRtsrN7cbBQ",
        "colab_type": "text"
      },
      "source": [
        "## Testing"
      ]
    },
    {
      "cell_type": "code",
      "metadata": {
        "id": "6YIrdcuncgKq",
        "colab_type": "code",
        "colab": {}
      },
      "source": [
        "def test_model(img):\n",
        "  face2=get_image_face(img)\n",
        "  embd=generate_embeddings(face2)\n",
        "  dc={0:\"Benedict Cumberbatch\", 1 : \"Chris Hemsworth\", 2: \"Robert Downey, Jr.\"}\n",
        "  return dc[int(KNNmodel.predict([embd]))]"
      ],
      "execution_count": 0,
      "outputs": []
    },
    {
      "cell_type": "code",
      "metadata": {
        "id": "VPe1Pcc1AYXB",
        "colab_type": "code",
        "colab": {}
      },
      "source": [
        "img2 = cv2.imread(\"/content/drive/My Drive/Datasets/Test/chrisendgame.jpg\")\n",
        "cv2_imshow(img2)\n",
        "print(\"\\n\\nNAME -->\",test_model(img2))"
      ],
      "execution_count": 0,
      "outputs": []
    },
    {
      "cell_type": "code",
      "metadata": {
        "id": "OugZQGo6B_qr",
        "colab_type": "code",
        "colab": {}
      },
      "source": [
        "img2 = cv2.imread(\"/content/drive/My Drive/Datasets/Test/robertDowneyjr.jpg\")\n",
        "cv2_imshow(img2)\n",
        "print(\"\\n\\nNAME -->\",test_model(img2))"
      ],
      "execution_count": 0,
      "outputs": []
    },
    {
      "cell_type": "code",
      "metadata": {
        "id": "IO1fMDT3CIWl",
        "colab_type": "code",
        "colab": {}
      },
      "source": [
        "img2 = cv2.imread(\"/content/drive/My Drive/Datasets/Test/benedict_cumberbatch.jpg\")\n",
        "cv2_imshow(img2)\n",
        "print(\"\\n\\nNAME -->\",test_model(img2))"
      ],
      "execution_count": 0,
      "outputs": []
    },
    {
      "cell_type": "markdown",
      "metadata": {
        "id": "dr5PGYvceZ-C",
        "colab_type": "text"
      },
      "source": [
        "Thank You"
      ]
    }
  ]
}